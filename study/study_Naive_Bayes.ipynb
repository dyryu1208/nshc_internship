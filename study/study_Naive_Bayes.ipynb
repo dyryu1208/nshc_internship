{
  "nbformat": 4,
  "nbformat_minor": 0,
  "metadata": {
    "colab": {
      "name": "study_Naive_Bayes.ipynb",
      "provenance": [],
      "toc_visible": true
    },
    "kernelspec": {
      "name": "python3",
      "display_name": "Python 3"
    },
    "language_info": {
      "name": "python"
    }
  },
  "cells": [
    {
      "cell_type": "markdown",
      "metadata": {
        "id": "E-gSJLW7gpvd"
      },
      "source": [
        "# 나이브베이즈 분류기를 통한 뉴스그룹 데이터 분류"
      ]
    },
    {
      "cell_type": "code",
      "metadata": {
        "colab": {
          "base_uri": "https://localhost:8080/"
        },
        "id": "zo5S1JOSgjE0",
        "outputId": "a451ab95-3d6f-4585-98ce-839a70646043"
      },
      "source": [
        "from sklearn.datasets import fetch_20newsgroups\n",
        "newsdata = fetch_20newsgroups(subset='train')  # subset = all --> 전체 데이터 다운로드  / subset = test --> 훈련용 데이터 다운로드\n",
        "newsdata.keys()\n",
        "# data : 뉴스 기사 본문\n",
        "# filenames : 파일명\n",
        "# target_names : 정답값\n",
        "# target : 0~19 "
      ],
      "execution_count": 5,
      "outputs": [
        {
          "output_type": "execute_result",
          "data": {
            "text/plain": [
              "dict_keys(['data', 'filenames', 'target_names', 'target', 'DESCR'])"
            ]
          },
          "metadata": {},
          "execution_count": 5
        }
      ]
    },
    {
      "cell_type": "code",
      "metadata": {
        "colab": {
          "base_uri": "https://localhost:8080/"
        },
        "id": "nukaTscxg1te",
        "outputId": "1d29deb0-3f1e-4436-be8e-9b82620aacc5"
      },
      "source": [
        "print(len(newsdata.data),len(newsdata.filenames),len(newsdata.target_names),len(newsdata.target))\n",
        "# 훈련용 데이터 개수 11314 \n",
        "# 레이블 개수 : 20개"
      ],
      "execution_count": 6,
      "outputs": [
        {
          "output_type": "stream",
          "name": "stdout",
          "text": [
            "11314 11314 20 11314\n"
          ]
        }
      ]
    },
    {
      "cell_type": "code",
      "metadata": {
        "colab": {
          "base_uri": "https://localhost:8080/"
        },
        "id": "k2FR73wFhYhT",
        "outputId": "8f669920-e09e-4896-ac0f-3060f955a532"
      },
      "source": [
        "newsdata.target_names"
      ],
      "execution_count": 7,
      "outputs": [
        {
          "output_type": "execute_result",
          "data": {
            "text/plain": [
              "['alt.atheism',\n",
              " 'comp.graphics',\n",
              " 'comp.os.ms-windows.misc',\n",
              " 'comp.sys.ibm.pc.hardware',\n",
              " 'comp.sys.mac.hardware',\n",
              " 'comp.windows.x',\n",
              " 'misc.forsale',\n",
              " 'rec.autos',\n",
              " 'rec.motorcycles',\n",
              " 'rec.sport.baseball',\n",
              " 'rec.sport.hockey',\n",
              " 'sci.crypt',\n",
              " 'sci.electronics',\n",
              " 'sci.med',\n",
              " 'sci.space',\n",
              " 'soc.religion.christian',\n",
              " 'talk.politics.guns',\n",
              " 'talk.politics.mideast',\n",
              " 'talk.politics.misc',\n",
              " 'talk.religion.misc']"
            ]
          },
          "metadata": {},
          "execution_count": 7
        }
      ]
    },
    {
      "cell_type": "code",
      "metadata": {
        "colab": {
          "base_uri": "https://localhost:8080/"
        },
        "id": "04TxIx1Dhp-6",
        "outputId": "f5094340-6f98-4783-b492-ce20c4602390"
      },
      "source": [
        "print(newsdata.target[0])  # target 값 : 0~19\n",
        "print(newsdata.target_names[7])  # 0번째 데이터의 정답값 : rec.autos"
      ],
      "execution_count": 9,
      "outputs": [
        {
          "output_type": "stream",
          "name": "stdout",
          "text": [
            "7\n",
            "rec.autos\n"
          ]
        }
      ]
    },
    {
      "cell_type": "code",
      "metadata": {
        "id": "GPB_7vPFht_E"
      },
      "source": [
        "from sklearn.feature_extraction.text import CountVectorizer\n",
        "from sklearn.feature_extraction.text import TfidfTransformer\n",
        "from sklearn.naive_bayes import MultinomialNB   # 다중분류용 나이브 베이즈 모듈\n",
        "from sklearn.metrics import accuracy_score"
      ],
      "execution_count": 10,
      "outputs": []
    },
    {
      "cell_type": "code",
      "metadata": {
        "colab": {
          "base_uri": "https://localhost:8080/"
        },
        "id": "w5mc4yHdjvr8",
        "outputId": "6c8b8a34-461d-431e-f78d-7e6db074275a"
      },
      "source": [
        "dtmvector = CountVectorizer()  # countvectorizer : 각 열 단어들의 출현 빈도수 벡터화\n",
        "# 모든 단어들을 소문자로 변환시킴\n",
        "X_train_dtm = dtmvector.fit_transform(newsdata.data)\n",
        "print(X_train_dtm.shape)"
      ],
      "execution_count": 11,
      "outputs": [
        {
          "output_type": "stream",
          "name": "stdout",
          "text": [
            "(11314, 130107)\n"
          ]
        }
      ]
    },
    {
      "cell_type": "markdown",
      "metadata": {
        "id": "ae3Km285lrWm"
      },
      "source": [
        "* 물론, DTM을 그대로 나이브 베이즈 분류기에 사용할 수도 있겠지만 DTM 행렬 대신 TF-IDF 가중치를 적용한 TF-IDF 행렬을 입력으로 텍스트 분류를 수행하면, 성능의 개선을 얻을 수도 있습니다. (DTM 챕터 참고) 주의할 점은 TF-IDF 행렬이 항상 DTM으로 수행했을 때보다 성능이 뛰어나지는 않습니다. 사이킷런은 TF-IDF를 자동 계산해주는 TfidVectorizer 클래스를 제공하므로 이를 사용해보겠습니다."
      ]
    },
    {
      "cell_type": "code",
      "metadata": {
        "colab": {
          "base_uri": "https://localhost:8080/"
        },
        "id": "rz7jatsKkoFB",
        "outputId": "d74bd613-7278-478b-eb63-3ea75ce61132"
      },
      "source": [
        "tfidf_transformer = TfidfTransformer()\n",
        "tfidfv = tfidf_transformer.fit_transform(X_train_dtm)\n",
        "print(tfidfv.shape)"
      ],
      "execution_count": 12,
      "outputs": [
        {
          "output_type": "stream",
          "name": "stdout",
          "text": [
            "(11314, 130107)\n"
          ]
        }
      ]
    },
    {
      "cell_type": "code",
      "metadata": {
        "colab": {
          "base_uri": "https://localhost:8080/"
        },
        "id": "YIACS_VQltRK",
        "outputId": "a040395b-c140-4192-f38f-d1620282bafa"
      },
      "source": [
        "# 모델 학습\n",
        "mod = MultinomialNB()\n",
        "mod.fit(tfidfv,newsdata.target)\n",
        "MultinomialNB(alpha=1.0,class_prior=None,fit_prior=True)"
      ],
      "execution_count": 14,
      "outputs": [
        {
          "output_type": "execute_result",
          "data": {
            "text/plain": [
              "MultinomialNB(alpha=1.0, class_prior=None, fit_prior=True)"
            ]
          },
          "metadata": {},
          "execution_count": 14
        }
      ]
    },
    {
      "cell_type": "code",
      "metadata": {
        "colab": {
          "base_uri": "https://localhost:8080/"
        },
        "id": "8XXZLsr2mA1B",
        "outputId": "46568ed7-9359-4b8e-be36-731508a0b2d5"
      },
      "source": [
        "# 테스트 데이터 가져오기\n",
        "newsdata_test = fetch_20newsgroups(subset='test',shuffle=True)\n",
        "X_test_dtm = dtmvector.transform(newsdata_test.data)\n",
        "tfidfv_test = tfidf_transformer.transform(X_test_dtm)\n",
        "\n",
        "mod.predict(tfidfv_test)  # 테스트 데이터 예측"
      ],
      "execution_count": 15,
      "outputs": [
        {
          "output_type": "execute_result",
          "data": {
            "text/plain": [
              "array([ 7, 11,  0, ...,  9,  3, 15])"
            ]
          },
          "metadata": {},
          "execution_count": 15
        }
      ]
    },
    {
      "cell_type": "code",
      "metadata": {
        "colab": {
          "base_uri": "https://localhost:8080/"
        },
        "id": "Mj8qzW4Qnbxq",
        "outputId": "2fa3b873-f052-4a46-bc3e-2775b25eafbf"
      },
      "source": [
        "accuracy_score(newsdata_test.target,mod.predict(tfidfv_test))"
      ],
      "execution_count": 16,
      "outputs": [
        {
          "output_type": "execute_result",
          "data": {
            "text/plain": [
              "0.7738980350504514"
            ]
          },
          "metadata": {},
          "execution_count": 16
        }
      ]
    },
    {
      "cell_type": "code",
      "metadata": {
        "id": "iU1b5t0lnk-Y"
      },
      "source": [
        ""
      ],
      "execution_count": null,
      "outputs": []
    }
  ]
}