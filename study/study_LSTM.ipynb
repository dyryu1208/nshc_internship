{
  "nbformat": 4,
  "nbformat_minor": 0,
  "metadata": {
    "colab": {
      "name": "study_LSTM.ipynb",
      "provenance": []
    },
    "kernelspec": {
      "name": "python3",
      "display_name": "Python 3"
    },
    "language_info": {
      "name": "python"
    },
    "accelerator": "GPU"
  },
  "cells": [
    {
      "cell_type": "code",
      "metadata": {
        "id": "3LtJyF8EXe1l"
      },
      "source": [
        "from tensorflow.keras.datasets import reuters\n",
        "%matplotlib inline\n",
        "import matplotlib.pyplot as plt\n",
        "import seaborn as sns\n",
        "import numpy as np\n",
        "from tensorflow.keras.datasets import reuters\n",
        "from tensorflow.keras.models import Sequential\n",
        "from tensorflow.keras.layers import Dense, LSTM, Embedding\n",
        "from tensorflow.keras.preprocessing.sequence import pad_sequences\n",
        "from tensorflow.keras.utils import to_categorical\n",
        "from tensorflow.keras.callbacks import EarlyStopping, ModelCheckpoint\n",
        "from tensorflow.keras.models import load_model"
      ],
      "execution_count": 1,
      "outputs": []
    },
    {
      "cell_type": "code",
      "metadata": {
        "colab": {
          "base_uri": "https://localhost:8080/"
        },
        "id": "Ss9XJ6miXj3Q",
        "outputId": "a37da14d-a4bb-4dd7-a313-24288e1d8bac"
      },
      "source": [
        "(X_train,y_train),(X_test,y_test) = reuters.load_data(num_words=None,test_split=0.2)\n",
        "# 이 데이터셋 같은 경우에는 이미 array 배열로 단어 --> 숫자인덱스 정리가 되어있음!\n",
        "# num_words = n --> 등장빈도 순위로 n번째 까지의 단어까지만 사용할지 조절"
      ],
      "execution_count": 2,
      "outputs": [
        {
          "output_type": "stream",
          "name": "stdout",
          "text": [
            "Downloading data from https://storage.googleapis.com/tensorflow/tf-keras-datasets/reuters.npz\n",
            "2113536/2110848 [==============================] - 0s 0us/step\n",
            "2121728/2110848 [==============================] - 0s 0us/step\n"
          ]
        }
      ]
    },
    {
      "cell_type": "code",
      "metadata": {
        "colab": {
          "base_uri": "https://localhost:8080/"
        },
        "id": "K4pSJy5JXnfP",
        "outputId": "5c7748c8-e611-46fe-954d-e6f3db0637a6"
      },
      "source": [
        "type(X_train)"
      ],
      "execution_count": 3,
      "outputs": [
        {
          "output_type": "execute_result",
          "data": {
            "text/plain": [
              "numpy.ndarray"
            ]
          },
          "metadata": {},
          "execution_count": 3
        }
      ]
    },
    {
      "cell_type": "code",
      "metadata": {
        "colab": {
          "base_uri": "https://localhost:8080/"
        },
        "id": "qEScuFS_Xo7G",
        "outputId": "6f4bc5be-5dfd-4a0c-b5c3-af3b626407f5"
      },
      "source": [
        "print('훈련용 뉴스 기사 : ',len(X_train))\n",
        "print('훈련용 뉴스 기사 : ',len(X_test))\n",
        "num_classes = max(y_train) + 1\n",
        "# y_train은 0~45까지의 값을 가짐 --> 총 개수를 알기 위해 +1 해줌\n",
        "print('카테고리(label) 개수 : ',num_classes)"
      ],
      "execution_count": 4,
      "outputs": [
        {
          "output_type": "stream",
          "name": "stdout",
          "text": [
            "훈련용 뉴스 기사 :  8982\n",
            "훈련용 뉴스 기사 :  2246\n",
            "카테고리(label) 개수 :  46\n"
          ]
        }
      ]
    },
    {
      "cell_type": "code",
      "metadata": {
        "colab": {
          "base_uri": "https://localhost:8080/",
          "height": 316
        },
        "id": "H94mg1C4XqCv",
        "outputId": "8fe77f11-862d-4203-86ff-37b1b3855013"
      },
      "source": [
        "print('뉴스 기사 최대길이 : ',max(len(l) for l in X_train))\n",
        "print('뉴스 기사 평균길이 : ',sum(map(len,X_train))/len(X_train))\n",
        "\n",
        "plt.hist([len(s) for s in X_train], bins=50)\n",
        "plt.xlabel('length of samples')\n",
        "plt.ylabel('number of samples')\n",
        "plt.show()\n",
        "# 최대 길이 2376 / 평균 길이 : 145.5\n",
        "# 대부분 100~200 사이의 길이(1000이하)"
      ],
      "execution_count": 5,
      "outputs": [
        {
          "output_type": "stream",
          "name": "stdout",
          "text": [
            "뉴스 기사 최대길이 :  2376\n",
            "뉴스 기사 평균길이 :  145.5398574927633\n"
          ]
        },
        {
          "output_type": "display_data",
          "data": {
            "image/png": "[encoded data removed]",
            "text/plain": [
              "<Figure size 432x288 with 1 Axes>"
            ]
          },
          "metadata": {
            "needs_background": "light"
          }
        }
      ]
    },
    {
      "cell_type": "code",
      "metadata": {
        "colab": {
          "base_uri": "https://localhost:8080/",
          "height": 395
        },
        "id": "38fw9DooXrSP",
        "outputId": "11fac941-9962-4f94-df1a-c9f361e20b07"
      },
      "source": [
        "fig,axe = plt.subplots(ncols=1)\n",
        "fig.set_size_inches(12,5)\n",
        "sns.countplot(y_train)\n",
        "# 3과 4가 많은 레이블을 차지"
      ],
      "execution_count": 6,
      "outputs": [
        {
          "output_type": "stream",
          "name": "stderr",
          "text": [
            "/usr/local/lib/python3.7/dist-packages/seaborn/_decorators.py:43: FutureWarning: Pass the following variable as a keyword arg: x. From version 0.12, the only valid positional argument will be `data`, and passing other arguments without an explicit keyword will result in an error or misinterpretation.\n",
            "  FutureWarning\n"
          ]
        },
        {
          "output_type": "execute_result",
          "data": {
            "text/plain": [
              "<matplotlib.axes._subplots.AxesSubplot at 0x7fdfb726f2d0>"
            ]
          },
          "metadata": {},
          "execution_count": 6
        },
        {
          "output_type": "display_data",
          "data": {
            "image/png": "[encoded data removed]",
            "text/plain": [
              "<Figure size 864x360 with 1 Axes>"
            ]
          },
          "metadata": {
            "needs_background": "light"
          }
        }
      ]
    },
    {
      "cell_type": "code",
      "metadata": {
        "colab": {
          "base_uri": "https://localhost:8080/"
        },
        "id": "isyzv2CKXs6v",
        "outputId": "b25aed6a-c592-48c8-d3cf-8ffb23f83dd3"
      },
      "source": [
        "unique_elements,counts_elements = np.unique(y_train,return_counts=True)\n",
        "print('각 카테고리별 빈도수: ')\n",
        "print(np.asarray((unique_elements,counts_elements)))"
      ],
      "execution_count": 7,
      "outputs": [
        {
          "output_type": "stream",
          "name": "stdout",
          "text": [
            "각 카테고리별 빈도수: \n",
            "[[   0    1    2    3    4    5    6    7    8    9   10   11   12   13\n",
            "    14   15   16   17   18   19   20   21   22   23   24   25   26   27\n",
            "    28   29   30   31   32   33   34   35   36   37   38   39   40   41\n",
            "    42   43   44   45]\n",
            " [  55  432   74 3159 1949   17   48   16  139  101  124  390   49  172\n",
            "    26   20  444   39   66  549  269  100   15   41   62   92   24   15\n",
            "    48   19   45   39   32   11   50   10   49   19   19   24   36   30\n",
            "    13   21   12   18]]\n"
          ]
        }
      ]
    },
    {
      "cell_type": "code",
      "metadata": {
        "colab": {
          "base_uri": "https://localhost:8080/"
        },
        "id": "sSeN2qRpXuM_",
        "outputId": "11038b30-4c7d-4238-e2c1-0f7e001babfe"
      },
      "source": [
        "# train 데이터셋 중 어떤 단어에 어떤 인덱스가 부여되었는지 확인하는 코드\n",
        "index_to_word = {}\n",
        "num = 10\n",
        "word_to_index = reuters.get_word_index()\n",
        "for key,value in word_to_index.items():\n",
        "    index_to_word[value] = key\n",
        "print(f'빈도수 상위 {num}번째 단어 : ',index_to_word[num])"
      ],
      "execution_count": 8,
      "outputs": [
        {
          "output_type": "stream",
          "name": "stdout",
          "text": [
            "Downloading data from https://storage.googleapis.com/tensorflow/tf-keras-datasets/reuters_word_index.json\n",
            "557056/550378 [==============================] - 0s 0us/step\n",
            "565248/550378 [==============================] - 0s 0us/step\n",
            "빈도수 상위 10번째 단어 :  for\n"
          ]
        }
      ]
    },
    {
      "cell_type": "code",
      "metadata": {
        "id": "_tMhbXUhXvd3"
      },
      "source": [
        "(X_train, y_train), (X_test, y_test) = reuters.load_data(num_words=1000, test_split=0.2)\n",
        "max_len = 2376\n",
        "X_train = pad_sequences(X_train,maxlen=max_len)\n",
        "X_test = pad_sequences(X_test,maxlen=max_len)\n",
        "y_train = to_categorical(y_train)  # label 원 핫 인코딩 --> keras에서 사용하는 방식\n",
        "y_test = to_categorical(y_test)    # label 원 핫 인코딩"
      ],
      "execution_count": 9,
      "outputs": []
    },
    {
      "cell_type": "code",
      "metadata": {
        "colab": {
          "base_uri": "https://localhost:8080/"
        },
        "id": "E5gluzeEXw7g",
        "outputId": "299618ee-2b40-4b45-a40d-0b6cb427fec6"
      },
      "source": [
        "es = EarlyStopping(patience=4,monitor='val_loss',mode='min',verbose=1)\n",
        "mc = ModelCheckpoint('best_model.h5',monitor='val_acc',mode='max',verbose=1,save_best_only=True)\n",
        "model = Sequential()\n",
        "model.add(Embedding(1000,120))\n",
        "model.add(LSTM(120))\n",
        "model.add(Dense(46,activation='softmax'))\n",
        "model.compile(loss='categorical_crossentropy',optimizer='adam',metrics=['acc'])\n",
        "history = model.fit(X_train, y_train, batch_size=128, epochs=30, callbacks=[es, mc], validation_data=(X_test, y_test))\n"
      ],
      "execution_count": 10,
      "outputs": [
        {
          "output_type": "stream",
          "name": "stdout",
          "text": [
            "Epoch 1/30\n",
            "71/71 [==============================] - 53s 648ms/step - loss: 2.6190 - acc: 0.3372 - val_loss: 2.4180 - val_acc: 0.3620\n",
            "\n",
            "Epoch 00001: val_acc improved from -inf to 0.36198, saving model to best_model.h5\n",
            "Epoch 2/30\n",
            "71/71 [==============================] - 46s 642ms/step - loss: 2.2628 - acc: 0.4063 - val_loss: 2.0355 - val_acc: 0.4969\n",
            "\n",
            "Epoch 00002: val_acc improved from 0.36198 to 0.49688, saving model to best_model.h5\n",
            "Epoch 3/30\n",
            "71/71 [==============================] - 46s 642ms/step - loss: 1.9462 - acc: 0.4961 - val_loss: 1.8558 - val_acc: 0.5138\n",
            "\n",
            "Epoch 00003: val_acc improved from 0.49688 to 0.51380, saving model to best_model.h5\n",
            "Epoch 4/30\n",
            "71/71 [==============================] - 46s 645ms/step - loss: 1.8155 - acc: 0.5269 - val_loss: 2.0842 - val_acc: 0.4047\n",
            "\n",
            "Epoch 00004: val_acc did not improve from 0.51380\n",
            "Epoch 5/30\n",
            "71/71 [==============================] - 46s 647ms/step - loss: 1.7742 - acc: 0.5313 - val_loss: 1.7639 - val_acc: 0.5463\n",
            "\n",
            "Epoch 00005: val_acc improved from 0.51380 to 0.54630, saving model to best_model.h5\n",
            "Epoch 6/30\n",
            "71/71 [==============================] - 46s 647ms/step - loss: 1.6928 - acc: 0.5577 - val_loss: 1.6884 - val_acc: 0.5779\n",
            "\n",
            "Epoch 00006: val_acc improved from 0.54630 to 0.57792, saving model to best_model.h5\n",
            "Epoch 7/30\n",
            "71/71 [==============================] - 46s 646ms/step - loss: 1.5990 - acc: 0.5950 - val_loss: 1.6656 - val_acc: 0.5890\n",
            "\n",
            "Epoch 00007: val_acc improved from 0.57792 to 0.58905, saving model to best_model.h5\n",
            "Epoch 8/30\n",
            "71/71 [==============================] - 46s 647ms/step - loss: 1.5050 - acc: 0.6192 - val_loss: 1.5272 - val_acc: 0.6220\n",
            "\n",
            "Epoch 00008: val_acc improved from 0.58905 to 0.62199, saving model to best_model.h5\n",
            "Epoch 9/30\n",
            "71/71 [==============================] - 46s 646ms/step - loss: 1.5022 - acc: 0.6179 - val_loss: 1.5113 - val_acc: 0.6113\n",
            "\n",
            "Epoch 00009: val_acc did not improve from 0.62199\n",
            "Epoch 10/30\n",
            "71/71 [==============================] - 46s 645ms/step - loss: 1.4983 - acc: 0.6045 - val_loss: 1.5148 - val_acc: 0.6122\n",
            "\n",
            "Epoch 00010: val_acc did not improve from 0.62199\n",
            "Epoch 11/30\n",
            "71/71 [==============================] - 46s 646ms/step - loss: 1.3996 - acc: 0.6332 - val_loss: 1.4356 - val_acc: 0.6416\n",
            "\n",
            "Epoch 00011: val_acc improved from 0.62199 to 0.64159, saving model to best_model.h5\n",
            "Epoch 12/30\n",
            "71/71 [==============================] - 46s 645ms/step - loss: 1.3540 - acc: 0.6578 - val_loss: 1.3944 - val_acc: 0.6460\n",
            "\n",
            "Epoch 00012: val_acc improved from 0.64159 to 0.64604, saving model to best_model.h5\n",
            "Epoch 13/30\n",
            "71/71 [==============================] - 46s 646ms/step - loss: 1.3775 - acc: 0.6505 - val_loss: 1.4420 - val_acc: 0.6398\n",
            "\n",
            "Epoch 00013: val_acc did not improve from 0.64604\n",
            "Epoch 14/30\n",
            "71/71 [==============================] - 46s 646ms/step - loss: 1.3627 - acc: 0.6536 - val_loss: 1.4208 - val_acc: 0.6483\n",
            "\n",
            "Epoch 00014: val_acc improved from 0.64604 to 0.64826, saving model to best_model.h5\n",
            "Epoch 15/30\n",
            "71/71 [==============================] - 46s 646ms/step - loss: 1.2788 - acc: 0.6761 - val_loss: 1.3634 - val_acc: 0.6585\n",
            "\n",
            "Epoch 00015: val_acc improved from 0.64826 to 0.65850, saving model to best_model.h5\n",
            "Epoch 16/30\n",
            "71/71 [==============================] - 46s 647ms/step - loss: 1.1954 - acc: 0.6937 - val_loss: 1.3127 - val_acc: 0.6683\n",
            "\n",
            "Epoch 00016: val_acc improved from 0.65850 to 0.66830, saving model to best_model.h5\n",
            "Epoch 17/30\n",
            "71/71 [==============================] - 46s 645ms/step - loss: 1.1972 - acc: 0.6882 - val_loss: 1.3806 - val_acc: 0.6438\n",
            "\n",
            "Epoch 00017: val_acc did not improve from 0.66830\n",
            "Epoch 18/30\n",
            "71/71 [==============================] - 46s 645ms/step - loss: 1.1656 - acc: 0.6935 - val_loss: 1.2619 - val_acc: 0.6825\n",
            "\n",
            "Epoch 00018: val_acc improved from 0.66830 to 0.68255, saving model to best_model.h5\n",
            "Epoch 19/30\n",
            "71/71 [==============================] - 46s 645ms/step - loss: 1.0977 - acc: 0.7163 - val_loss: 1.2871 - val_acc: 0.6821\n",
            "\n",
            "Epoch 00019: val_acc did not improve from 0.68255\n",
            "Epoch 20/30\n",
            "71/71 [==============================] - 46s 648ms/step - loss: 1.1094 - acc: 0.7111 - val_loss: 1.2996 - val_acc: 0.6812\n",
            "\n",
            "Epoch 00020: val_acc did not improve from 0.68255\n",
            "Epoch 21/30\n",
            "71/71 [==============================] - 46s 648ms/step - loss: 1.0366 - acc: 0.7301 - val_loss: 1.1894 - val_acc: 0.7026\n",
            "\n",
            "Epoch 00021: val_acc improved from 0.68255 to 0.70258, saving model to best_model.h5\n",
            "Epoch 22/30\n",
            "71/71 [==============================] - 46s 646ms/step - loss: 0.9930 - acc: 0.7485 - val_loss: 1.1609 - val_acc: 0.7110\n",
            "\n",
            "Epoch 00022: val_acc improved from 0.70258 to 0.71104, saving model to best_model.h5\n",
            "Epoch 23/30\n",
            "71/71 [==============================] - 46s 645ms/step - loss: 1.0682 - acc: 0.7214 - val_loss: 1.2178 - val_acc: 0.7008\n",
            "\n",
            "Epoch 00023: val_acc did not improve from 0.71104\n",
            "Epoch 24/30\n",
            "71/71 [==============================] - 46s 644ms/step - loss: 0.9848 - acc: 0.7463 - val_loss: 1.1980 - val_acc: 0.7053\n",
            "\n",
            "Epoch 00024: val_acc did not improve from 0.71104\n",
            "Epoch 25/30\n",
            "71/71 [==============================] - 46s 646ms/step - loss: 0.9507 - acc: 0.7553 - val_loss: 1.1421 - val_acc: 0.7164\n",
            "\n",
            "Epoch 00025: val_acc improved from 0.71104 to 0.71638, saving model to best_model.h5\n",
            "Epoch 26/30\n",
            "71/71 [==============================] - 46s 646ms/step - loss: 0.8737 - acc: 0.7769 - val_loss: 1.1040 - val_acc: 0.7253\n",
            "\n",
            "Epoch 00026: val_acc improved from 0.71638 to 0.72529, saving model to best_model.h5\n",
            "Epoch 27/30\n",
            "71/71 [==============================] - 46s 646ms/step - loss: 0.8355 - acc: 0.7858 - val_loss: 1.0859 - val_acc: 0.7293\n",
            "\n",
            "Epoch 00027: val_acc improved from 0.72529 to 0.72930, saving model to best_model.h5\n",
            "Epoch 28/30\n",
            "71/71 [==============================] - 46s 647ms/step - loss: 0.8195 - acc: 0.7916 - val_loss: 1.0891 - val_acc: 0.7195\n",
            "\n",
            "Epoch 00028: val_acc did not improve from 0.72930\n",
            "Epoch 29/30\n",
            "71/71 [==============================] - 46s 644ms/step - loss: 0.7725 - acc: 0.8031 - val_loss: 1.0713 - val_acc: 0.7418\n",
            "\n",
            "Epoch 00029: val_acc improved from 0.72930 to 0.74176, saving model to best_model.h5\n",
            "Epoch 30/30\n",
            "71/71 [==============================] - 46s 646ms/step - loss: 0.7476 - acc: 0.8100 - val_loss: 1.1051 - val_acc: 0.7391\n",
            "\n",
            "Epoch 00030: val_acc did not improve from 0.74176\n"
          ]
        }
      ]
    },
    {
      "cell_type": "code",
      "metadata": {
        "colab": {
          "base_uri": "https://localhost:8080/"
        },
        "id": "f18wgrRiXyQX",
        "outputId": "b94a4a6d-0393-433d-f361-9f28b031b8a2"
      },
      "source": [
        "loaded_model = load_model('best_model.h5')\n",
        "print('테스트 정확도 : ',loaded_model.evaluate(X_test,y_test)[1])"
      ],
      "execution_count": 11,
      "outputs": [
        {
          "output_type": "stream",
          "name": "stdout",
          "text": [
            "71/71 [==============================] - 11s 147ms/step - loss: 1.0713 - acc: 0.7418\n",
            "테스트 정확도 :  0.7417631149291992\n"
          ]
        }
      ]
    },
    {
      "cell_type": "code",
      "metadata": {
        "colab": {
          "base_uri": "https://localhost:8080/",
          "height": 295
        },
        "id": "bSmAtI2ibL_v",
        "outputId": "7461f648-69bd-4c0f-cf18-cf05eae4b34b"
      },
      "source": [
        "epochs = range(1, len(history.history['acc']) + 1)\n",
        "plt.plot(epochs, history.history['loss'])\n",
        "plt.plot(epochs, history.history['val_loss'])\n",
        "plt.title('model loss')\n",
        "plt.ylabel('loss')\n",
        "plt.xlabel('epoch')\n",
        "plt.legend(['train', 'test'], loc='upper left')\n",
        "plt.show()\n",
        "# 20을 넘어갈 즈음부터 과적합 신호가 나타남"
      ],
      "execution_count": 12,
      "outputs": [
        {
          "output_type": "display_data",
          "data": {
            "image/png": "[encoded data removed]",
            "text/plain": [
              "<Figure size 432x288 with 1 Axes>"
            ]
          },
          "metadata": {
            "needs_background": "light"
          }
        }
      ]
    },
    {
      "cell_type": "code",
      "metadata": {
        "id": "8q3sovwkbhXm"
      },
      "source": [
        ""
      ],
      "execution_count": 12,
      "outputs": []
    },
    {
      "cell_type": "code",
      "metadata": {
        "id": "BVDUhecAcWWT"
      },
      "source": [
        ""
      ],
      "execution_count": 12,
      "outputs": []
    },
    {
      "cell_type": "code",
      "metadata": {
        "id": "2iJ5iWUscWed"
      },
      "source": [
        "import tensorflow as tf"
      ],
      "execution_count": 13,
      "outputs": []
    },
    {
      "cell_type": "code",
      "metadata": {
        "colab": {
          "base_uri": "https://localhost:8080/"
        },
        "id": "3qSeOuCecW31",
        "outputId": "a37b1516-b206-49db-f297-4ceb3b2fdc13"
      },
      "source": [
        "tf.debugging.set_log_device_placement(True)\n",
        "\n",
        "# 텐서 생성\n",
        "a = tf.constant([[1.0, 2.0, 3.0], [4.0, 5.0, 6.0]])\n",
        "b = tf.constant([[1.0, 2.0], [3.0, 4.0], [5.0, 6.0]])\n",
        "c = tf.matmul(a, b)\n",
        "\n",
        "print(c)"
      ],
      "execution_count": 14,
      "outputs": [
        {
          "output_type": "stream",
          "name": "stdout",
          "text": [
            "tf.Tensor(\n",
            "[[22. 28.]\n",
            " [49. 64.]], shape=(2, 2), dtype=float32)\n"
          ]
        }
      ]
    },
    {
      "cell_type": "code",
      "metadata": {
        "colab": {
          "base_uri": "https://localhost:8080/"
        },
        "id": "DK3GblFRcYgd",
        "outputId": "1fd512e2-fac2-4443-8e0b-fcf5124a7a45"
      },
      "source": [
        "tf.debugging.set_log_device_placement(True)\n",
        "\n",
        "# 텐서를 CPU에 할당\n",
        "with tf.device('/CPU:0'):\n",
        "  a = tf.constant([[1.0, 2.0, 3.0], [4.0, 5.0, 6.0]])\n",
        "  b = tf.constant([[1.0, 2.0], [3.0, 4.0], [5.0, 6.0]])\n",
        "\n",
        "c = tf.matmul(a, b)\n",
        "print(c)"
      ],
      "execution_count": 15,
      "outputs": [
        {
          "output_type": "stream",
          "name": "stdout",
          "text": [
            "tf.Tensor(\n",
            "[[22. 28.]\n",
            " [49. 64.]], shape=(2, 2), dtype=float32)\n"
          ]
        }
      ]
    },
    {
      "cell_type": "code",
      "metadata": {
        "id": "BKzcRt0tcb9h"
      },
      "source": [
        ""
      ],
      "execution_count": 15,
      "outputs": []
    }
  ]
}